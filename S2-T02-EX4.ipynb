{
 "cells": [
  {
   "cell_type": "markdown",
   "metadata": {},
   "source": [
    "# Especialització de DataScience de la IT ACADEMY\n",
    "#### *Sprint2 - Tasca 2 - Exercici 4*\n",
    "#### **Mostreu-me amb exemples de diferents matrius, la regla fonamental de Broadcasting que diu : \"les matrius es poden transmetre / broadcast si les seves dimensions coincideixen o si una de les matrius té una mida d'1\".**\n",
    "\n",
    "#### Alumne: Jorge Prieto Data: 12/02/2022"
   ]
  },
  {
   "cell_type": "code",
   "execution_count": 3,
   "metadata": {},
   "outputs": [],
   "source": [
    "import numpy as np"
   ]
  },
  {
   "cell_type": "code",
   "execution_count": 8,
   "metadata": {},
   "outputs": [
    {
     "name": "stdout",
     "output_type": "stream",
     "text": [
      "Array1:\n",
      "[[81 12 35 55 12]\n",
      " [ 5 54 29  6  1]\n",
      " [28 55  3  2 84]\n",
      " [37  3 82 86 64]\n",
      " [38 95  0  4  6]]\n",
      "Array2:\n",
      "[[ 7 75 49 13 65]\n",
      " [94 38  3 93  8]\n",
      " [13 27 90 78 21]\n",
      " [12 73 46  7 62]\n",
      " [28 98 94 36 17]]\n"
     ]
    }
   ],
   "source": [
    "array1 = np.random.randint(100,size=(5, 5)) #Crea un array de 5x5 amb valors enters aleatoris compresos entre 0 i 99\n",
    "array2 = np.random.randint(100,size=(5, 5))\n",
    "print(\"Array1:\")\n",
    "print(array1)\n",
    "print(\"Array2:\")\n",
    "print(array2)"
   ]
  },
  {
   "cell_type": "code",
   "execution_count": 11,
   "metadata": {},
   "outputs": [
    {
     "name": "stdout",
     "output_type": "stream",
     "text": [
      "Multiplicació de matrius de igual index\n",
      "[[ 567  900 1715  715  780]\n",
      " [ 470 2052   87  558    8]\n",
      " [ 364 1485  270  156 1764]\n",
      " [ 444  219 3772  602 3968]\n",
      " [1064 9310    0  144  102]]\n",
      "\n",
      "Suma de matrius de igual index\n",
      "[[ 88  87  84  68  77]\n",
      " [ 99  92  32  99   9]\n",
      " [ 41  82  93  80 105]\n",
      " [ 49  76 128  93 126]\n",
      " [ 66 193  94  40  23]]\n"
     ]
    }
   ],
   "source": [
    "print(\"Multiplicació de matrius de igual index\")\n",
    "print(array1 * array2)\n",
    "print(\"\\nSuma de matrius de igual index\")\n",
    "print(array1 + array2)"
   ]
  },
  {
   "cell_type": "code",
   "execution_count": 12,
   "metadata": {},
   "outputs": [
    {
     "name": "stdout",
     "output_type": "stream",
     "text": [
      "Multiplicació de matriu per matriu unitaria\n",
      "[[2025  300  875 1375  300]\n",
      " [ 125 1350  725  150   25]\n",
      " [ 700 1375   75   50 2100]\n",
      " [ 925   75 2050 2150 1600]\n",
      " [ 950 2375    0  100  150]]\n",
      "\n",
      "Suma de matrius de matriu per matriu unitaria\n",
      "[[106  37  60  80  37]\n",
      " [ 30  79  54  31  26]\n",
      " [ 53  80  28  27 109]\n",
      " [ 62  28 107 111  89]\n",
      " [ 63 120  25  29  31]]\n"
     ]
    }
   ],
   "source": [
    "print(\"Multiplicació de matriu per valor 25\")\n",
    "print(array1 * 25)\n",
    "print(\"Suma de matriu per valor 25\")\n",
    "print(array1 + 25)"
   ]
  },
  {
   "cell_type": "code",
   "execution_count": 23,
   "metadata": {},
   "outputs": [
    {
     "name": "stdout",
     "output_type": "stream",
     "text": [
      "Array3:\n",
      "[[81  4 93  7 48]]\n"
     ]
    }
   ],
   "source": [
    "array3 = np.random.randint(100,size=(1, 5))\n",
    "print(\"Array3:\")\n",
    "print(array3)"
   ]
  },
  {
   "cell_type": "code",
   "execution_count": 25,
   "metadata": {},
   "outputs": [
    {
     "name": "stdout",
     "output_type": "stream",
     "text": [
      "Multiplicació de matriu1 per matriu3 amb index unitari\n",
      "[[6561   48 3255  385  576]\n",
      " [ 405  216 2697   42   48]\n",
      " [2268  220  279   14 4032]\n",
      " [2997   12 7626  602 3072]\n",
      " [3078  380    0   28  288]]\n",
      "Suma de matriu1 per matriu3 amb index unitari\n",
      "[[162  16 128  62  60]\n",
      " [ 86  58 122  13  49]\n",
      " [109  59  96   9 132]\n",
      " [118   7 175  93 112]\n",
      " [119  99  93  11  54]]\n"
     ]
    }
   ],
   "source": [
    "print(\"Multiplicació de matriu1 per matriu3 amb index unitari\")\n",
    "print(array1 * array3)\n",
    "print(\"Suma de matriu1 per matriu3 amb index unitari\")\n",
    "print(array1 + array3)"
   ]
  },
  {
   "cell_type": "code",
   "execution_count": null,
   "metadata": {},
   "outputs": [],
   "source": []
  }
 ],
 "metadata": {
  "kernelspec": {
   "display_name": "Python 3",
   "language": "python",
   "name": "python3"
  },
  "language_info": {
   "codemirror_mode": {
    "name": "ipython",
    "version": 3
   },
   "file_extension": ".py",
   "mimetype": "text/x-python",
   "name": "python",
   "nbconvert_exporter": "python",
   "pygments_lexer": "ipython3",
   "version": "3.7.6"
  }
 },
 "nbformat": 4,
 "nbformat_minor": 4
}
