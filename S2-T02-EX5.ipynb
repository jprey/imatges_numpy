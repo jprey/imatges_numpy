{
 "cells": [
  {
   "cell_type": "markdown",
   "metadata": {},
   "source": [
    "# Especialització de DataScience de la IT ACADEMY\n",
    "#### *Sprint2 - Tasca 2 - Exercici 5*\n",
    "#### **Utilitza la Indexació per extreure els valors d'una columna i una fila de la matriu. I suma els seus valors.**\n",
    "\n",
    "#### Alumne: Jorge Prieto Data: 12/02/2022"
   ]
  },
  {
   "cell_type": "code",
   "execution_count": 48,
   "metadata": {},
   "outputs": [],
   "source": [
    "import numpy as np"
   ]
  },
  {
   "cell_type": "code",
   "execution_count": 49,
   "metadata": {},
   "outputs": [
    {
     "name": "stdout",
     "output_type": "stream",
     "text": [
      "Array1:\n",
      "[[31 94 97  6 76]\n",
      " [74 54 90 61 92]\n",
      " [83 87 55 77 59]\n",
      " [36 38 77 39 85]\n",
      " [34 18 11 27 57]]\n"
     ]
    }
   ],
   "source": [
    "array1 = np.random.randint(100,size=(5, 5)) #Crea un array de 5x5 amb valors enters aleatoris compresos entre 0 i 99\n",
    "print(\"Array1:\")\n",
    "print(array1)"
   ]
  },
  {
   "cell_type": "code",
   "execution_count": 50,
   "metadata": {},
   "outputs": [
    {
     "name": "stdout",
     "output_type": "stream",
     "text": [
      "Fila 1: [31 94 97  6 76]\n",
      "Fila 2: [74 54 90 61 92]\n",
      "Fila 3: [83 87 55 77 59]\n",
      "Fila 4: [36 38 77 39 85]\n",
      "Fila 5: [34 18 11 27 57]\n"
     ]
    }
   ],
   "source": [
    "print(\"Fila 1:\",array1[0])\n",
    "print(\"Fila 2:\",array1[1])\n",
    "print(\"Fila 3:\",array1[2])\n",
    "print(\"Fila 4:\",array1[3])\n",
    "print(\"Fila 5:\",array1[4])"
   ]
  },
  {
   "cell_type": "code",
   "execution_count": 51,
   "metadata": {},
   "outputs": [
    {
     "name": "stdout",
     "output_type": "stream",
     "text": [
      "Fila 1 : [31 94 97  6 76]\n",
      "Fila 2 : [74 54 90 61 92]\n",
      "Fila 3 : [83 87 55 77 59]\n",
      "Fila 4 : [36 38 77 39 85]\n",
      "Fila 5 : [34 18 11 27 57]\n"
     ]
    }
   ],
   "source": [
    "count = 0;\n",
    "for fila in array1:\n",
    "    count +=1\n",
    "    print(\"Fila\",count,\":\",fila)"
   ]
  },
  {
   "cell_type": "code",
   "execution_count": 52,
   "metadata": {},
   "outputs": [
    {
     "name": "stdout",
     "output_type": "stream",
     "text": [
      "Fila fileres 1 i 3: [114 181 152  83 135]\n"
     ]
    }
   ],
   "source": [
    "#Suma fila 1 i 3\n",
    "print(\"Fila fileres 1 i 3:\",array1[0]+array1[2])"
   ]
  },
  {
   "cell_type": "code",
   "execution_count": 53,
   "metadata": {},
   "outputs": [
    {
     "name": "stdout",
     "output_type": "stream",
     "text": [
      "2n element de la 1ra fila: 94\n",
      "5è element de la 4ra fila: 85\n"
     ]
    }
   ],
   "source": [
    "#Accés a elements de la matriu\n",
    "print('2n element de la 1ra fila:',array1[0,1])\n",
    "print(\"5è element de la 4ra fila:\",array1[3,4])"
   ]
  },
  {
   "cell_type": "code",
   "execution_count": null,
   "metadata": {},
   "outputs": [],
   "source": []
  }
 ],
 "metadata": {
  "kernelspec": {
   "display_name": "Python 3",
   "language": "python",
   "name": "python3"
  },
  "language_info": {
   "codemirror_mode": {
    "name": "ipython",
    "version": 3
   },
   "file_extension": ".py",
   "mimetype": "text/x-python",
   "name": "python",
   "nbconvert_exporter": "python",
   "pygments_lexer": "ipython3",
   "version": "3.7.6"
  }
 },
 "nbformat": 4,
 "nbformat_minor": 4
}
