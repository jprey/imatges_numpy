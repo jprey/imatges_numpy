{
 "cells": [
  {
   "cell_type": "markdown",
   "metadata": {},
   "source": [
    "# Especialització de DataScience de la IT ACADEMY\n",
    "### *Sprint2 - Tasca 2 - Exercici 1*\n",
    "#### **Crea un np.array d'una dimensió, que inclogui l'almenys 8 nombres sencers, data type int64. Mostra la dimensió i la forma de la matriu.**\n",
    "\n",
    "#### Alumne: Jorge Prieto Data: 10/02/2022"
   ]
  },
  {
   "cell_type": "code",
   "execution_count": 2,
   "metadata": {},
   "outputs": [],
   "source": [
    "import numpy as np"
   ]
  },
  {
   "cell_type": "code",
   "execution_count": 3,
   "metadata": {},
   "outputs": [
    {
     "name": "stdout",
     "output_type": "stream",
     "text": [
      "[12 72 11  0 -3 31  2  1 67 15]\n"
     ]
    }
   ],
   "source": [
    "arr = np.array([12,72,11,0,-3,31,2,1,67,15], dtype='int64')\n",
    "print(arr)"
   ]
  },
  {
   "cell_type": "code",
   "execution_count": 4,
   "metadata": {},
   "outputs": [
    {
     "name": "stdout",
     "output_type": "stream",
     "text": [
      "int64\n"
     ]
    }
   ],
   "source": [
    "print(arr.dtype)"
   ]
  },
  {
   "cell_type": "code",
   "execution_count": 5,
   "metadata": {},
   "outputs": [
    {
     "name": "stdout",
     "output_type": "stream",
     "text": [
      "l'array es de dimensió 1\n"
     ]
    }
   ],
   "source": [
    "print(\"l'array es de dimensió\",arr.ndim) #dimensió de l'array"
   ]
  },
  {
   "cell_type": "markdown",
   "metadata": {},
   "source": [
    "### *Sprint2 - Tasca 2 - Exercici 2*\n",
    "#### **De la matriu de l'exercici 1, calcula el valor mitjà dels valors introduïts i resta la mitjana resultant de cada un dels valors de la matriu.**"
   ]
  },
  {
   "cell_type": "code",
   "execution_count": 6,
   "metadata": {},
   "outputs": [
    {
     "name": "stdout",
     "output_type": "stream",
     "text": [
      "la mitja del valors de l'array es 20.8\n"
     ]
    }
   ],
   "source": [
    "print(\"la mitja del valors de l'array es\",arr.mean())"
   ]
  },
  {
   "cell_type": "code",
   "execution_count": 7,
   "metadata": {},
   "outputs": [
    {
     "name": "stdout",
     "output_type": "stream",
     "text": [
      "la mitjana del valors de l'array es 11.5\n"
     ]
    }
   ],
   "source": [
    "print(\"la mitjana del valors de l'array es\",np.median(arr))"
   ]
  },
  {
   "cell_type": "code",
   "execution_count": 8,
   "metadata": {},
   "outputs": [
    {
     "name": "stdout",
     "output_type": "stream",
     "text": [
      "la resta de la mitja i la mitjana es 9.3\n"
     ]
    }
   ],
   "source": [
    "print(\"la resta de la mitja i la mitjana es\",(arr.mean()-np.median(arr)))"
   ]
  },
  {
   "cell_type": "markdown",
   "metadata": {},
   "source": [
    "### *Sprint2 - Tasca 2 - Exercici 3*\n",
    "#### **Crea una matriu bidimensional amb una forma de 5 x 5. Extreu el valor màxim de la matriu, i els valors màxims de cadascun dels seus eixos.**"
   ]
  },
  {
   "cell_type": "code",
   "execution_count": 9,
   "metadata": {},
   "outputs": [
    {
     "name": "stdout",
     "output_type": "stream",
     "text": [
      "[[31 89 23 19 42]\n",
      " [97  3 41 41 10]\n",
      " [37 79 67 75 22]\n",
      " [39 60 10 93  4]\n",
      " [66 64 20 88 33]]\n"
     ]
    }
   ],
   "source": [
    "arr = np.random.randint(100,size=(5, 5)) #Crea un array de 5x5 amb valors enters aleatoris compresos entre 0 i 99\n",
    "print(arr)"
   ]
  },
  {
   "cell_type": "code",
   "execution_count": 10,
   "metadata": {},
   "outputs": [
    {
     "name": "stdout",
     "output_type": "stream",
     "text": [
      "El valor màxim de la matriu es 97\n"
     ]
    }
   ],
   "source": [
    "print(\"El valor màxim de la matriu es\",np.amax(arr))"
   ]
  },
  {
   "cell_type": "code",
   "execution_count": 11,
   "metadata": {},
   "outputs": [
    {
     "name": "stdout",
     "output_type": "stream",
     "text": [
      "fila 1 : [31 89 23 19 42]  - Valor Màxim  89\n",
      "fila 2 : [97  3 41 41 10]  - Valor Màxim  97\n",
      "fila 3 : [37 79 67 75 22]  - Valor Màxim  79\n",
      "fila 4 : [39 60 10 93  4]  - Valor Màxim  93\n",
      "fila 5 : [66 64 20 88 33]  - Valor Màxim  88\n"
     ]
    }
   ],
   "source": [
    "count = 0\n",
    "for x in arr:\n",
    "    count +=1\n",
    "    print(\"fila\",count,\":\",x,\" - Valor Màxim \",np.amax(x))"
   ]
  },
  {
   "cell_type": "code",
   "execution_count": 12,
   "metadata": {},
   "outputs": [],
   "source": [
    "arrTranspose = np.transpose(arr) #Trasposar la matriu per simplicar el print de les columnes"
   ]
  },
  {
   "cell_type": "code",
   "execution_count": 13,
   "metadata": {},
   "outputs": [
    {
     "name": "stdout",
     "output_type": "stream",
     "text": [
      "columna 1 : [31 97 37 39 66]  - Valor Màxim  97\n",
      "columna 2 : [89  3 79 60 64]  - Valor Màxim  89\n",
      "columna 3 : [23 41 67 10 20]  - Valor Màxim  67\n",
      "columna 4 : [19 41 75 93 88]  - Valor Màxim  93\n",
      "columna 5 : [42 10 22  4 33]  - Valor Màxim  42\n"
     ]
    }
   ],
   "source": [
    "count = 0\n",
    "for y in arrTranspose:\n",
    "    count +=1\n",
    "    print(\"columna\",count,\":\",y,\" - Valor Màxim \",np.amax(y))"
   ]
  },
  {
   "cell_type": "markdown",
   "metadata": {},
   "source": [
    "### *Sprint2 - Tasca 2 - Exercici 4*\n",
    "#### **Mostreu-me amb exemples de diferents matrius, la regla fonamental de Broadcasting que diu : \"les matrius es poden transmetre / broadcast si les seves dimensions coincideixen o si una de les matrius té una mida d'1\".**"
   ]
  },
  {
   "cell_type": "code",
   "execution_count": 14,
   "metadata": {},
   "outputs": [
    {
     "name": "stdout",
     "output_type": "stream",
     "text": [
      "Array1:\n",
      "[[14 59 92 59 91]\n",
      " [ 9 79 32 42 55]\n",
      " [97 27 40 23 19]\n",
      " [37 25 65 96 59]\n",
      " [83 70 52 21 14]]\n",
      "Array2:\n",
      "[[64 12  3  9 20]\n",
      " [41 85 32 40 58]\n",
      " [90 41 65 55 62]\n",
      " [53 31 41 64 45]\n",
      " [83 24 85 51 61]]\n"
     ]
    }
   ],
   "source": [
    "array1 = np.random.randint(100,size=(5, 5)) #Crea un array de 5x5 amb valors enters aleatoris compresos entre 0 i 99\n",
    "array2 = np.random.randint(100,size=(5, 5))\n",
    "print(\"Array1:\")\n",
    "print(array1)\n",
    "print(\"Array2:\")\n",
    "print(array2)"
   ]
  },
  {
   "cell_type": "code",
   "execution_count": 15,
   "metadata": {},
   "outputs": [
    {
     "name": "stdout",
     "output_type": "stream",
     "text": [
      "Multiplicació de matrius de igual index\n",
      "[[ 896  708  276  531 1820]\n",
      " [ 369 6715 1024 1680 3190]\n",
      " [8730 1107 2600 1265 1178]\n",
      " [1961  775 2665 6144 2655]\n",
      " [6889 1680 4420 1071  854]]\n",
      "\n",
      "Suma de matrius de igual index\n",
      "[[ 78  71  95  68 111]\n",
      " [ 50 164  64  82 113]\n",
      " [187  68 105  78  81]\n",
      " [ 90  56 106 160 104]\n",
      " [166  94 137  72  75]]\n"
     ]
    }
   ],
   "source": [
    "print(\"Multiplicació de matrius de igual index\")\n",
    "print(array1 * array2)\n",
    "print(\"\\nSuma de matrius de igual index\")\n",
    "print(array1 + array2)"
   ]
  },
  {
   "cell_type": "code",
   "execution_count": 16,
   "metadata": {},
   "outputs": [
    {
     "name": "stdout",
     "output_type": "stream",
     "text": [
      "Multiplicació de matriu per valor 25\n",
      "[[ 350 1475 2300 1475 2275]\n",
      " [ 225 1975  800 1050 1375]\n",
      " [2425  675 1000  575  475]\n",
      " [ 925  625 1625 2400 1475]\n",
      " [2075 1750 1300  525  350]]\n",
      "Suma de matriu per valor 25\n",
      "[[ 39  84 117  84 116]\n",
      " [ 34 104  57  67  80]\n",
      " [122  52  65  48  44]\n",
      " [ 62  50  90 121  84]\n",
      " [108  95  77  46  39]]\n"
     ]
    }
   ],
   "source": [
    "print(\"Multiplicació de matriu per valor 25\")\n",
    "print(array1 * 25)\n",
    "print(\"Suma de matriu per valor 25\")\n",
    "print(array1 + 25)"
   ]
  },
  {
   "cell_type": "code",
   "execution_count": 17,
   "metadata": {},
   "outputs": [
    {
     "name": "stdout",
     "output_type": "stream",
     "text": [
      "Array3:\n",
      "[[85 66 68 39 39]]\n"
     ]
    }
   ],
   "source": [
    "array3 = np.random.randint(100,size=(1, 5))\n",
    "print(\"Array3:\")\n",
    "print(array3)"
   ]
  },
  {
   "cell_type": "code",
   "execution_count": 18,
   "metadata": {},
   "outputs": [
    {
     "name": "stdout",
     "output_type": "stream",
     "text": [
      "Multiplicació de matriu1 per matriu3 amb index unitari\n",
      "[[1190 3894 6256 2301 3549]\n",
      " [ 765 5214 2176 1638 2145]\n",
      " [8245 1782 2720  897  741]\n",
      " [3145 1650 4420 3744 2301]\n",
      " [7055 4620 3536  819  546]]\n",
      "Suma de matriu1 per matriu3 amb index unitari\n",
      "[[ 99 125 160  98 130]\n",
      " [ 94 145 100  81  94]\n",
      " [182  93 108  62  58]\n",
      " [122  91 133 135  98]\n",
      " [168 136 120  60  53]]\n"
     ]
    }
   ],
   "source": [
    "print(\"Multiplicació de matriu1 per matriu3 amb index unitari\")\n",
    "print(array1 * array3)\n",
    "print(\"Suma de matriu1 per matriu3 amb index unitari\")\n",
    "print(array1 + array3)"
   ]
  },
  {
   "cell_type": "markdown",
   "metadata": {},
   "source": [
    "### *Sprint2 - Tasca 2 - Exercici 5*\n",
    "#### **Utilitza la Indexació per extreure els valors d'una columna i una fila de la matriu. I suma els seus valors.**"
   ]
  },
  {
   "cell_type": "code",
   "execution_count": 19,
   "metadata": {},
   "outputs": [
    {
     "name": "stdout",
     "output_type": "stream",
     "text": [
      "Fila 1 : [14 59 92 59 91]\n",
      "Fila 2 : [ 9 79 32 42 55]\n",
      "Fila 3 : [97 27 40 23 19]\n",
      "Fila 4 : [37 25 65 96 59]\n",
      "Fila 5 : [83 70 52 21 14]\n"
     ]
    }
   ],
   "source": [
    "count = 0;\n",
    "for fila in array1:\n",
    "    count +=1\n",
    "    print(\"Fila\",count,\":\",fila)"
   ]
  },
  {
   "cell_type": "code",
   "execution_count": 20,
   "metadata": {},
   "outputs": [
    {
     "name": "stdout",
     "output_type": "stream",
     "text": [
      "Fila fileres 1 i 3: [111  86 132  82 110]\n"
     ]
    }
   ],
   "source": [
    "#Suma fila 1 i 3\n",
    "print(\"Fila fileres 1 i 3:\",array1[0]+array1[2])"
   ]
  },
  {
   "cell_type": "code",
   "execution_count": 21,
   "metadata": {},
   "outputs": [
    {
     "name": "stdout",
     "output_type": "stream",
     "text": [
      "2n element de la 1ra fila: 59\n",
      "5è element de la 4ra fila: 59\n"
     ]
    }
   ],
   "source": [
    "#Accés a elements de la matriu\n",
    "print('2n element de la 1ra fila:',array1[0,1])\n",
    "print(\"5è element de la 4ra fila:\",array1[3,4])"
   ]
  },
  {
   "cell_type": "markdown",
   "metadata": {},
   "source": [
    "### *Sprint2 - Tasca 2 - Exercici 6*\n",
    "#### **Mask la matriu anterior, realitzeu un càlcul booleà vectoritzat, agafant cada element i comprovant si es divideix uniformement per quatre.**\n",
    "#### **Això retorna una matriu de mask de la mateixa forma amb els resultats elementals del càlcul.**"
   ]
  },
  {
   "cell_type": "code",
   "execution_count": 22,
   "metadata": {},
   "outputs": [
    {
     "data": {
      "text/plain": [
       "array([[14, 59, 92, 59, 91],\n",
       "       [ 9, 79, 32, 42, 55],\n",
       "       [97, 27, 40, 23, 19],\n",
       "       [37, 25, 65, 96, 59],\n",
       "       [83, 70, 52, 21, 14]])"
      ]
     },
     "execution_count": 22,
     "metadata": {},
     "output_type": "execute_result"
    }
   ],
   "source": [
    "array1"
   ]
  },
  {
   "cell_type": "code",
   "execution_count": 23,
   "metadata": {},
   "outputs": [
    {
     "data": {
      "text/plain": [
       "array([[False, False,  True, False, False],\n",
       "       [False, False,  True, False, False],\n",
       "       [False, False,  True, False, False],\n",
       "       [False, False, False,  True, False],\n",
       "       [False, False,  True, False, False]])"
      ]
     },
     "execution_count": 23,
     "metadata": {},
     "output_type": "execute_result"
    }
   ],
   "source": [
    "#Màscara retorna true si la divisió entre 4 dona un enter\n",
    "mask = (array1 % 4)==0\n",
    "mask"
   ]
  },
  {
   "cell_type": "code",
   "execution_count": 24,
   "metadata": {},
   "outputs": [
    {
     "data": {
      "text/plain": [
       "array([[2, 3, 0, 3, 3],\n",
       "       [1, 3, 0, 2, 3],\n",
       "       [1, 3, 0, 3, 3],\n",
       "       [1, 1, 1, 0, 3],\n",
       "       [3, 2, 0, 1, 2]], dtype=int32)"
      ]
     },
     "execution_count": 24,
     "metadata": {},
     "output_type": "execute_result"
    }
   ],
   "source": [
    "#Màscara retorna resta de la divisió entre 4\n",
    "mask1 = (array1 % 4)\n",
    "mask1"
   ]
  },
  {
   "cell_type": "markdown",
   "metadata": {},
   "source": [
    "### *Sprint2 - Tasca 2 - Exercici 7*\n",
    "#### **A continuació, utilitzeu aquesta màscara per indexar a la matriu de números original. Això fa que la matriu perdi la seva forma original, reduint-la a una dimensió, però encara obteniu les dades que esteu cercant.**"
   ]
  },
  {
   "cell_type": "code",
   "execution_count": 25,
   "metadata": {},
   "outputs": [
    {
     "data": {
      "text/plain": [
       "array([[14, 59, 92, 59, 91],\n",
       "       [ 9, 79, 32, 42, 55],\n",
       "       [97, 27, 40, 23, 19],\n",
       "       [37, 25, 65, 96, 59],\n",
       "       [83, 70, 52, 21, 14]])"
      ]
     },
     "execution_count": 25,
     "metadata": {},
     "output_type": "execute_result"
    }
   ],
   "source": [
    "array1"
   ]
  },
  {
   "cell_type": "code",
   "execution_count": 26,
   "metadata": {},
   "outputs": [
    {
     "data": {
      "text/plain": [
       "array([92, 32, 40, 96, 52])"
      ]
     },
     "execution_count": 26,
     "metadata": {},
     "output_type": "execute_result"
    }
   ],
   "source": [
    "#Matriu indexada amb la màscara. Retorna els valors on es compleix la màscara\n",
    "array1[mask]"
   ]
  },
  {
   "cell_type": "code",
   "execution_count": null,
   "metadata": {},
   "outputs": [],
   "source": []
  }
 ],
 "metadata": {
  "kernelspec": {
   "display_name": "Python 3",
   "language": "python",
   "name": "python3"
  },
  "language_info": {
   "codemirror_mode": {
    "name": "ipython",
    "version": 3
   },
   "file_extension": ".py",
   "mimetype": "text/x-python",
   "name": "python",
   "nbconvert_exporter": "python",
   "pygments_lexer": "ipython3",
   "version": "3.7.6"
  }
 },
 "nbformat": 4,
 "nbformat_minor": 4
}
