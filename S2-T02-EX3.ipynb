{
 "cells": [
  {
   "cell_type": "markdown",
   "metadata": {},
   "source": [
    "# Especialització de DataScience de la IT ACADEMY\n",
    "#### *Sprint2 - Tasca 2 - Exercici 3*\n",
    "#### **Crea una matriu bidimensional amb una forma de 5 x 5. Extreu el valor màxim de la matriu, i els valors màxims de cadascun dels seus eixos.**\n",
    "\n",
    "#### Alumne: Jorge Prieto Data: 10/02/2022"
   ]
  },
  {
   "cell_type": "code",
   "execution_count": 41,
   "metadata": {},
   "outputs": [],
   "source": [
    "import numpy as np"
   ]
  },
  {
   "cell_type": "code",
   "execution_count": 81,
   "metadata": {},
   "outputs": [
    {
     "name": "stdout",
     "output_type": "stream",
     "text": [
      "[[12 36 89 79 64]\n",
      " [60  7 44 95 24]\n",
      " [70 15 27 38 84]\n",
      " [34 86 43 67 95]\n",
      " [94 90 98 34 73]]\n"
     ]
    }
   ],
   "source": [
    "arr = np.random.randint(100,size=(5, 5)) #Crea un array de 5x5 amb valors enters aleatoris compresos entre 0 i 99\n",
    "print(arr)"
   ]
  },
  {
   "cell_type": "code",
   "execution_count": 82,
   "metadata": {},
   "outputs": [
    {
     "name": "stdout",
     "output_type": "stream",
     "text": [
      "El valor màxim de la matriu es 98\n"
     ]
    }
   ],
   "source": [
    "print(\"El valor màxim de la matriu es\",np.amax(arr))"
   ]
  },
  {
   "cell_type": "code",
   "execution_count": 109,
   "metadata": {},
   "outputs": [
    {
     "name": "stdout",
     "output_type": "stream",
     "text": [
      "fila 1 : [12 36 89 79 64]  - Valor Màxim  89\n",
      "fila 2 : [60  7 44 95 24]  - Valor Màxim  95\n",
      "fila 3 : [70 15 27 38 84]  - Valor Màxim  84\n",
      "fila 4 : [34 86 43 67 95]  - Valor Màxim  95\n",
      "fila 5 : [94 90 98 34 73]  - Valor Màxim  98\n"
     ]
    }
   ],
   "source": [
    "count = 0\n",
    "for x in arr:\n",
    "    count +=1\n",
    "    print(\"fila\",count,\":\",x,\" - Valor Màxim \",np.amax(x))"
   ]
  },
  {
   "cell_type": "code",
   "execution_count": 104,
   "metadata": {},
   "outputs": [],
   "source": [
    "arrTranspose = np.transpose(arr) #Trasposar la matriu per simplicar el print de les columnes"
   ]
  },
  {
   "cell_type": "code",
   "execution_count": 110,
   "metadata": {},
   "outputs": [
    {
     "name": "stdout",
     "output_type": "stream",
     "text": [
      "columna 1 : [12 60 70 34 94]  - Valor Màxim  94\n",
      "columna 2 : [36  7 15 86 90]  - Valor Màxim  90\n",
      "columna 3 : [89 44 27 43 98]  - Valor Màxim  98\n",
      "columna 4 : [79 95 38 67 34]  - Valor Màxim  95\n",
      "columna 5 : [64 24 84 95 73]  - Valor Màxim  95\n"
     ]
    }
   ],
   "source": [
    "count = 0\n",
    "for y in arrTranspose:\n",
    "    count +=1\n",
    "    print(\"columna\",count,\":\",y,\" - Valor Màxim \",np.amax(y))"
   ]
  },
  {
   "cell_type": "code",
   "execution_count": null,
   "metadata": {},
   "outputs": [],
   "source": []
  }
 ],
 "metadata": {
  "kernelspec": {
   "display_name": "Python 3",
   "language": "python",
   "name": "python3"
  },
  "language_info": {
   "codemirror_mode": {
    "name": "ipython",
    "version": 3
   },
   "file_extension": ".py",
   "mimetype": "text/x-python",
   "name": "python",
   "nbconvert_exporter": "python",
   "pygments_lexer": "ipython3",
   "version": "3.7.6"
  }
 },
 "nbformat": 4,
 "nbformat_minor": 4
}
